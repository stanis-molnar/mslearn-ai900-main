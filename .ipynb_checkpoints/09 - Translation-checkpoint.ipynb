{
 "cells": [
  {
   "cell_type": "markdown",
   "metadata": {},
   "source": [
    "# Translation\n",
    "\n",
    "One of the driving forces that has enabled human civilization to develop is the ability to communicate with one another. In most human endeavours, communication is key.\n",
    "\n",
    "![A multilingual robot](./images/translation.jpg)\n",
    "\n",
    "Artificial Intelligence (AI) can help simplify communication by translating text or speech between languages, helping to remove barriers to communication across countries and cultures.\n",
    "\n",
    "## Create a Cognitive Services resource\n",
    "\n",
    "In Azure, you can use the cognitive services to translate between multiple languages.\n",
    "\n",
    "If you don't already have one, use the following steps to create a **Cognitive Services** resource in your Azure subscription:\n",
    "\n",
    "> **Note**: If you already have a Cognitive Services resource, just open its **Quick start** page in the Azure portal and copy its key and endpoint to the cell below. Otherwise, follow the steps below to create one.\n",
    "\n",
    "1. In another browser tab, open the Azure portal at https://portal.azure.com, signing in with your Microsoft account.\n",
    "2. Click the **&#65291;Create a resource** button, search for *Cognitive Services*, and create a **Cognitive Services** resource with the following settings:\n",
    "    - **Subscription**: *Your Azure subscription*.\n",
    "    - **Resource group**: *Select or create a resource group with a unique name*.\n",
    "    - **Region**: *Choose any available region*:\n",
    "    - **Name**: *Enter a unique name*.\n",
    "    - **Pricing tier**: S0\n",
    "    - **I confirm I have read and understood the notices**: Selected.\n",
    "3. Wait for deployment to complete. Then go to your cognitive services resource, and on the **Overview** page, click the link to manage the keys for the service. You will need the endpoint and keys to connect to your cognitive services resource from client applications.\n",
    "\n",
    "### Get the Key and Location for your Cognitive Services resource\n",
    "\n",
    "To use your cognitive services resource, client applications need its authentication key and location:\n",
    "\n",
    "1. In the Azure portal, on the **Keys and Endpoint** page for your cognitive service resource, copy the **Key1** for your resource and paste it in the code below, replacing **YOUR_COG_KEY**.\n",
    "2. Copy the **Location** for your resource and and paste it in the code below, replacing **YOUR_COG_LOCATION**.\n",
    ">**Note**: Stay on the **Keys and Endpoint** page and copy the **Location** from this page (example: _westus_). Please _do not_ add spaces between words for the Location field. \n",
    "3. Run the code below by clicking the **Run cell** (&#9655;) button to the left of the cell."
   ]
  },
  {
   "cell_type": "code",
   "execution_count": 1,
   "metadata": {
    "gather": {
     "logged": 1599695377020
    }
   },
   "outputs": [
    {
     "name": "stdout",
     "output_type": "stream",
     "text": [
      "Ready to use cognitive services in westeurope using key 866f45546cd44c0ab9d96b383a529f80\n"
     ]
    }
   ],
   "source": [
    "cog_key = '866f45546cd44c0ab9d96b383a529f80'\n",
    "cog_location = 'westeurope'\n",
    "\n",
    "print('Ready to use cognitive services in {} using key {}'.format(cog_location, cog_key))"
   ]
  },
  {
   "cell_type": "markdown",
   "metadata": {},
   "source": [
    "## Translating Text\n",
    "\n",
    "As its name suggests, the **Translator Text** service enables you to translate text from one language to another.\n",
    "\n",
    "There's no Python SDK for this service, but you can use its REST interface to submit requests to an endpoint over HTTP, which is relatively easy to do in Python by using the **requests** library. The information about the text to be translated and the resulting translated text are exchanged in JSON format.\n",
    "\n",
    "Run the following cell to create a function that does this, and then test the function with a simple translation from English to French."
   ]
  },
  {
   "cell_type": "code",
   "execution_count": 2,
   "metadata": {
    "gather": {
     "logged": 1599695393341
    }
   },
   "outputs": [
    {
     "name": "stdout",
     "output_type": "stream",
     "text": [
      "Hello -> Bonjour\n"
     ]
    }
   ],
   "source": [
    "# Create a function that makes a REST request to the Text Translation service\n",
    "def translate_text(cog_location, cog_key, text, to_lang='fr', from_lang='en'):\n",
    "    import requests, uuid, json\n",
    "\n",
    "    # Create the URL for the Text Translator service REST request\n",
    "    path = 'https://api.cognitive.microsofttranslator.com/translate?api-version=3.0'\n",
    "    params = '&from={}&to={}'.format(from_lang, to_lang)\n",
    "    constructed_url = path + params\n",
    "\n",
    "    # Prepare the request headers with Cognitive Services resource key and region\n",
    "    headers = {\n",
    "        'Ocp-Apim-Subscription-Key': cog_key,\n",
    "        'Ocp-Apim-Subscription-Region':cog_location,\n",
    "        'Content-type': 'application/json',\n",
    "        'X-ClientTraceId': str(uuid.uuid4())\n",
    "    }\n",
    "\n",
    "    # Add the text to be translated to the body\n",
    "    body = [{\n",
    "        'text': text\n",
    "    }]\n",
    "\n",
    "    # Get the translation\n",
    "    request = requests.post(constructed_url, headers=headers, json=body)\n",
    "    response = request.json()\n",
    "    return response[0][\"translations\"][0][\"text\"]\n",
    "\n",
    "\n",
    "# Test the function\n",
    "text_to_translate = \"Hello\"\n",
    "\n",
    "translation = translate_text(cog_location, cog_key, text_to_translate, to_lang='fr', from_lang='en')\n",
    "print('{} -> {}'.format(text_to_translate,translation))"
   ]
  },
  {
   "cell_type": "markdown",
   "metadata": {},
   "source": [
    "The service should have translated the English text \"Hello\" to the French \"Bonjour\".\n",
    "\n",
    "Notice that the languages are specified by using a standard system of language abbreviations, with *en* for English and *fr* for French. You can also use abbreviations that include specific cultures, which is useful when the same language is used in different geographical areas - often with different spellings. For example *en-US* denotes English in the Unites States, while *en-GB* indicates English in Great Britain.\n",
    "\n",
    "Run the following cell to translate between British English and Italian."
   ]
  },
  {
   "cell_type": "code",
   "execution_count": 3,
   "metadata": {
    "gather": {
     "logged": 1599695400335
    }
   },
   "outputs": [
    {
     "name": "stdout",
     "output_type": "stream",
     "text": [
      "Hello -> Ciao\n"
     ]
    }
   ],
   "source": [
    "text_to_translate = \"Hello\"\n",
    "\n",
    "translation = translate_text(cog_location, cog_key, text_to_translate, to_lang='it-IT', from_lang='en-GB')\n",
    "print('{} -> {}'.format(text_to_translate,translation))"
   ]
  },
  {
   "cell_type": "markdown",
   "metadata": {},
   "source": [
    "Let's try another translation - this time from US English to Chinese."
   ]
  },
  {
   "cell_type": "code",
   "execution_count": 4,
   "metadata": {
    "gather": {
     "logged": 1599695403076
    }
   },
   "outputs": [
    {
     "name": "stdout",
     "output_type": "stream",
     "text": [
      "Hello -> 你好\n"
     ]
    }
   ],
   "source": [
    "text_to_translate = \"Hello\"\n",
    "\n",
    "translation = translate_text(cog_location, cog_key, text_to_translate, to_lang='zh-CN', from_lang='en-US')\n",
    "print('{} -> {}'.format(text_to_translate,translation))"
   ]
  },
  {
   "cell_type": "markdown",
   "metadata": {},
   "source": [
    "## Speech Translation\n",
    "\n",
    "You can use the **Speech** service to translate spoken language.\n",
    "\n",
    "Now you can run the following cell to create and test a function that uses the Speech SDK to translate audible speech."
   ]
  },
  {
   "cell_type": "code",
   "execution_count": 5,
   "metadata": {
    "gather": {
     "logged": 1599695532629
    }
   },
   "outputs": [
    {
     "name": "stdout",
     "output_type": "stream",
     "text": [
      "Hello. -> Hola.\n"
     ]
    }
   ],
   "source": [
    "# Create a function to translate audio in one language to text in another\n",
    "def translate_speech(cog_location, cog_key, audio_file=None, to_lang='fr-FR', from_lang='en-US'):\n",
    "    from azure.cognitiveservices.speech import SpeechConfig, AudioConfig, ResultReason\n",
    "    from azure.cognitiveservices.speech.translation import SpeechTranslationConfig, TranslationRecognizer\n",
    "\n",
    "    # Configure the speech translation service\n",
    "    translation_config = SpeechTranslationConfig(subscription=cog_key, region=cog_location)\n",
    "    translation_config.speech_recognition_language = from_lang\n",
    "    translation_config.add_target_language(to_lang)\n",
    "\n",
    "    # Configure audio input\n",
    "    if audio_file is None:\n",
    "        audio_config = AudioConfig() # Use default input (microphone)\n",
    "    else:\n",
    "        audio_config = AudioConfig(filename=audio_file) # Use file input\n",
    "\n",
    "    # Create a translation recognizer and use it to translate speech input\n",
    "    recognizer = TranslationRecognizer(translation_config, audio_config)\n",
    "    result = recognizer.recognize_once()\n",
    "\n",
    "    # Did we get it?\n",
    "    translation = ''\n",
    "    speech_text = ''\n",
    "    if result.reason == ResultReason.TranslatedSpeech:\n",
    "        speech_text = result.text\n",
    "        translation =  result.translations[to_lang]\n",
    "    elif result.reason == ResultReason.RecognizedSpeech:\n",
    "        speech_text = result.text\n",
    "        translation =  'Unable to translate speech'\n",
    "    else:\n",
    "        translation = 'Unknown'\n",
    "        speech_text = 'Unknown'\n",
    "\n",
    "    # rturn the translation\n",
    "    return speech_text, translation\n",
    "    \n",
    "\n",
    "# Test the function\n",
    "import os\n",
    "\n",
    "file_name = 'english.wav'\n",
    "file_path = os.path.join('data', 'translation', file_name)\n",
    "speech, translated_speech = translate_speech(cog_location, cog_key, file_path, to_lang='es', from_lang='en-US')\n",
    "result = '{} -> {}'.format(speech, translated_speech)\n",
    "\n",
    "# Show translated text\n",
    "print(result)"
   ]
  },
  {
   "cell_type": "markdown",
   "metadata": {},
   "source": [
    "Note that the \"to\" language must be identified using a 2-character language code (for example *en*), while the \"from\" language must include the culture indicator (for example *en-US*).\n",
    "\n",
    "Let's try translating from French to English."
   ]
  },
  {
   "cell_type": "code",
   "execution_count": 6,
   "metadata": {
    "gather": {
     "logged": 1599695542192
    }
   },
   "outputs": [
    {
     "name": "stdout",
     "output_type": "stream",
     "text": [
      "Bonjour. -> Hello.\n"
     ]
    }
   ],
   "source": [
    "import os\n",
    "\n",
    "file_name = 'french.wav'\n",
    "file_path = os.path.join('data', 'translation', file_name)\n",
    "speech, translated_speech = translate_speech(cog_location, cog_key, file_path, to_lang='en', from_lang='fr-FR')\n",
    "result = '{} -> {}'.format(speech, translated_speech)\n",
    "\n",
    "# Show translated text\n",
    "print(result)"
   ]
  },
  {
   "cell_type": "markdown",
   "metadata": {},
   "source": [
    "## Learn More\n",
    "\n",
    "You can learn more about the [Translator Text](https://docs.microsoft.com/azure/cognitive-services/translator/) and [translation with the Speech service](https://docs.microsoft.com/azure/cognitive-services/speech-service/index-speech-translation) in the service documentation."
   ]
  }
 ],
 "metadata": {
  "kernel_info": {
   "name": "python3-azureml"
  },
  "kernelspec": {
   "display_name": "Python 3",
   "language": "python",
   "name": "python3"
  },
  "language_info": {
   "codemirror_mode": {
    "name": "ipython",
    "version": 3
   },
   "file_extension": ".py",
   "mimetype": "text/x-python",
   "name": "python",
   "nbconvert_exporter": "python",
   "pygments_lexer": "ipython3",
   "version": "3.8.3"
  },
  "nteract": {
   "version": "nteract-front-end@1.0.0"
  }
 },
 "nbformat": 4,
 "nbformat_minor": 4
}
