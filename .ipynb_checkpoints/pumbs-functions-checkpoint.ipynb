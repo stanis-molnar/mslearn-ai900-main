{
 "cells": [
  {
   "cell_type": "code",
   "execution_count": 82,
   "metadata": {},
   "outputs": [],
   "source": [
    "# 1. função dos números primos\n",
    "def primo(n):\n",
    "    if n == 2 or (n != 1 and n % 2 == 1) and n > 0:\n",
    "        n_primo = True\n",
    "    else:\n",
    "        n_primo = False\n",
    "    divisor = 3\n",
    "    while divisor < n and n_primo == True:\n",
    "        if n % divisor == 0:\n",
    "            n_primo = False\n",
    "        divisor += 2 \n",
    "    return(n_primo)"
   ]
  },
  {
   "cell_type": "code",
   "execution_count": 36,
   "metadata": {},
   "outputs": [],
   "source": [
    "# 3. função exponencial\n",
    "def exponencial(n0, e, p, d):\n",
    "    potencia = n0\n",
    "    count = 1\n",
    "    while count <= d:\n",
    "        potencia *= (1 + e * p)\n",
    "        count += 1\n",
    "    return int(potencia)"
   ]
  },
  {
   "cell_type": "code",
   "execution_count": 37,
   "metadata": {},
   "outputs": [
    {
     "data": {
      "text/plain": [
       "3"
      ]
     },
     "execution_count": 37,
     "metadata": {},
     "output_type": "execute_result"
    }
   ],
   "source": [
    "exponencial(2,5,0.1,1)"
   ]
  },
  {
   "cell_type": "code",
   "execution_count": 59,
   "metadata": {},
   "outputs": [],
   "source": [
    "# 4. função logística\n",
    "def logistica(n0, e, p, n, d):\n",
    "    l_potencia = n0\n",
    "    l_count = 1\n",
    "    while l_count <= d:\n",
    "        l_potencia *= 1 + e*p*(1-l_potencia/n)\n",
    "        l_count += 1\n",
    "    return int(l_potencia)"
   ]
  },
  {
   "cell_type": "code",
   "execution_count": 64,
   "metadata": {},
   "outputs": [
    {
     "data": {
      "text/plain": [
       "9999"
      ]
     },
     "execution_count": 64,
     "metadata": {},
     "output_type": "execute_result"
    }
   ],
   "source": [
    "logistica(1,5,0.1,10000,40)"
   ]
  },
  {
   "cell_type": "code",
   "execution_count": 135,
   "metadata": {},
   "outputs": [],
   "source": [
    "def goldbach(n):\n",
    "    p=int(n/2-0.5)\n",
    "    q=int(n/2+1)\n",
    "    b = False\n",
    "    while p > 1:\n",
    "        print(p,q)\n",
    "        if (primo(p) == True and primo(q) == True):\n",
    "            b = True\n",
    "            break\n",
    "        p -= 1\n",
    "        q += 1\n",
    "    return b, p, q"
   ]
  },
  {
   "cell_type": "code",
   "execution_count": 149,
   "metadata": {},
   "outputs": [
    {
     "name": "stdout",
     "output_type": "stream",
     "text": [
      "623 625\n",
      "622 626\n",
      "621 627\n",
      "620 628\n",
      "619 629\n",
      "618 630\n",
      "617 631\n"
     ]
    },
    {
     "data": {
      "text/plain": [
       "(True, 617, 631)"
      ]
     },
     "execution_count": 149,
     "metadata": {},
     "output_type": "execute_result"
    }
   ],
   "source": [
    "goldbach(1248)"
   ]
  },
  {
   "cell_type": "code",
   "execution_count": 129,
   "metadata": {},
   "outputs": [
    {
     "data": {
      "text/plain": [
       "False"
      ]
     },
     "execution_count": 129,
     "metadata": {},
     "output_type": "execute_result"
    }
   ],
   "source": [
    "primo(1)"
   ]
  },
  {
   "cell_type": "code",
   "execution_count": null,
   "metadata": {},
   "outputs": [],
   "source": [
    "b1, p1, q1 = goldbach(5)"
   ]
  }
 ],
 "metadata": {
  "kernelspec": {
   "display_name": "Python 3",
   "language": "python",
   "name": "python3"
  },
  "language_info": {
   "codemirror_mode": {
    "name": "ipython",
    "version": 3
   },
   "file_extension": ".py",
   "mimetype": "text/x-python",
   "name": "python",
   "nbconvert_exporter": "python",
   "pygments_lexer": "ipython3",
   "version": "3.8.3"
  }
 },
 "nbformat": 4,
 "nbformat_minor": 4
}
