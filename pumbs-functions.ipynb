{
 "cells": [
  {
   "cell_type": "code",
   "execution_count": 5,
   "metadata": {},
   "outputs": [],
   "source": [
    "# 1. função dos números primos\n",
    "def primo(n):\n",
    "    if n == 2 or (n != 1 and n % 2 == 1) and n > 0:\n",
    "        n_primo = True\n",
    "    else:\n",
    "        n_primo = False\n",
    "    divisor = 3\n",
    "    while divisor < n and n_primo == True:\n",
    "        if n % divisor == 0:\n",
    "            n_primo = False\n",
    "        divisor += 2 \n",
    "    return(n_primo)"
   ]
  },
  {
   "cell_type": "code",
   "execution_count": 6,
   "metadata": {},
   "outputs": [
    {
     "data": {
      "text/plain": [
       "True"
      ]
     },
     "execution_count": 6,
     "metadata": {},
     "output_type": "execute_result"
    }
   ],
   "source": [
    "primo(5)"
   ]
  },
  {
   "cell_type": "code",
   "execution_count": 7,
   "metadata": {},
   "outputs": [],
   "source": [
    "# 3. função exponencial\n",
    "def exponencial(n0, e, p, d):\n",
    "    potencia = n0\n",
    "    count = 1\n",
    "    while count <= d:\n",
    "        potencia *= (1 + e * p)\n",
    "        count += 1\n",
    "    return int(potencia)"
   ]
  },
  {
   "cell_type": "code",
   "execution_count": null,
   "metadata": {},
   "outputs": [],
   "source": []
  },
  {
   "cell_type": "code",
   "execution_count": 44,
   "metadata": {},
   "outputs": [],
   "source": [
    "def goldbach(n):\n",
    "    b = False\n",
    "    if n == 1 or n == 2 or n == 3:\n",
    "        p = 1\n",
    "        q = 1\n",
    "    else:\n",
    "        p = 2\n",
    "        q = n - 2\n",
    "        while p < (n/2) and (primo(p)==False or primo(q)==False):\n",
    "            if p==2:\n",
    "                p += 1\n",
    "                q -= 1\n",
    "            else:\n",
    "                p += 2\n",
    "                q -= 2\n",
    "        if primo(p)==True and primo(q)==True:\n",
    "            b = True\n",
    "    return(b, p, q)"
   ]
  },
  {
   "cell_type": "code",
   "execution_count": 45,
   "metadata": {},
   "outputs": [
    {
     "data": {
      "text/plain": [
       "(True, 29, 8971)"
      ]
     },
     "execution_count": 45,
     "metadata": {},
     "output_type": "execute_result"
    }
   ],
   "source": [
    "goldbach(9000)"
   ]
  },
  {
   "cell_type": "code",
   "execution_count": 160,
   "metadata": {},
   "outputs": [],
   "source": [
    "def goldbach(n):\n",
    "    b = False\n",
    "    if n == 1 or n == 2 or n == 3:\n",
    "        p = 1\n",
    "        q = 1\n",
    "    else:\n",
    "        p = 3\n",
    "        q = n - 3 #n-p\n",
    "        while p!=q:\n",
    "            if primo(p)==True and primo(q)==True:\n",
    "                b = True\n",
    "                break\n",
    "            p += 2\n",
    "            q -= 2\n",
    "        if p > q:\n",
    "            p1 = q\n",
    "            q1 = p\n",
    "        else:\n",
    "            q1 = q\n",
    "            p1 = p\n",
    "    return(b, p1, q1)"
   ]
  },
  {
   "cell_type": "code",
   "execution_count": null,
   "metadata": {},
   "outputs": [],
   "source": []
  },
  {
   "cell_type": "code",
   "execution_count": 162,
   "metadata": {},
   "outputs": [
    {
     "data": {
      "text/plain": [
       "(True, 2, 5)"
      ]
     },
     "execution_count": 162,
     "metadata": {},
     "output_type": "execute_result"
    }
   ],
   "source": [
    "goldbach(7)"
   ]
  },
  {
   "cell_type": "code",
   "execution_count": 59,
   "metadata": {},
   "outputs": [],
   "source": [
    "# 4. função logística\n",
    "def logistica(n0, e, p, n, d):\n",
    "    l_potencia = n0\n",
    "    l_count = 1\n",
    "    while l_count <= d:\n",
    "        l_potencia *= 1 + e*p*(1-l_potencia/n)\n",
    "        l_count += 1\n",
    "    return int(l_potencia)"
   ]
  },
  {
   "cell_type": "code",
   "execution_count": 64,
   "metadata": {},
   "outputs": [
    {
     "data": {
      "text/plain": [
       "9999"
      ]
     },
     "execution_count": 64,
     "metadata": {},
     "output_type": "execute_result"
    }
   ],
   "source": [
    "logistica(1,5,0.1,10000,40)"
   ]
  },
  {
   "cell_type": "code",
   "execution_count": 135,
   "metadata": {},
   "outputs": [],
   "source": [
    "def goldbach(n):\n",
    "    p=int(n/2-0.5)\n",
    "    q=int(n/2+1)\n",
    "    b = False\n",
    "    while p > 1:\n",
    "        print(p,q)\n",
    "        if (primo(p) == True and primo(q) == True):\n",
    "            b = True\n",
    "            break\n",
    "        p -= 1\n",
    "        q += 1\n",
    "    return b, p, q"
   ]
  },
  {
   "cell_type": "code",
   "execution_count": 153,
   "metadata": {},
   "outputs": [
    {
     "name": "stdout",
     "output_type": "stream",
     "text": [
      "8 9\n",
      "7 10\n",
      "6 11\n",
      "5 12\n",
      "4 13\n",
      "3 14\n",
      "2 15\n"
     ]
    },
    {
     "data": {
      "text/plain": [
       "(False, 1, 16)"
      ]
     },
     "execution_count": 153,
     "metadata": {},
     "output_type": "execute_result"
    }
   ],
   "source": [
    "goldbach(17)"
   ]
  },
  {
   "cell_type": "code",
   "execution_count": 129,
   "metadata": {},
   "outputs": [
    {
     "data": {
      "text/plain": [
       "False"
      ]
     },
     "execution_count": 129,
     "metadata": {},
     "output_type": "execute_result"
    }
   ],
   "source": [
    "primo(1)"
   ]
  },
  {
   "cell_type": "code",
   "execution_count": null,
   "metadata": {},
   "outputs": [],
   "source": [
    "b1, p1, q1 = goldbach(5)"
   ]
  }
 ],
 "metadata": {
  "kernelspec": {
   "display_name": "Python 3",
   "language": "python",
   "name": "python3"
  },
  "language_info": {
   "codemirror_mode": {
    "name": "ipython",
    "version": 3
   },
   "file_extension": ".py",
   "mimetype": "text/x-python",
   "name": "python",
   "nbconvert_exporter": "python",
   "pygments_lexer": "ipython3",
   "version": "3.8.3"
  }
 },
 "nbformat": 4,
 "nbformat_minor": 4
}
